{
 "cells": [
  {
   "cell_type": "code",
   "execution_count": 1,
   "metadata": {},
   "outputs": [],
   "source": [
    "# %pip install numpy"
   ]
  },
  {
   "cell_type": "code",
   "execution_count": 2,
   "metadata": {},
   "outputs": [],
   "source": [
    "import numpy as np"
   ]
  },
  {
   "cell_type": "markdown",
   "metadata": {},
   "source": [
    "## Extra: Custom Dataset Generation\n",
    "\n",
    "| Syntax              |  Name \n",
    "| :---                | :--  \n",
    "| `x[0]`              | **Index**\n",
    "| `x[1:3]`            | **Slice**\n",
    "| `x[0] = 5`          | **Mutate**\n",
    "| `x[0:4] = 5`        | **Mutate**\n",
    "| `y = x * 5`         | **Transform**\n",
    "| `x[3:] = x[3:] * 5` | **Transform In-Place**\n",
    "| `x[3:] *= 5`        | **Transform In-Place** (shorter version)\n",
    "\n"
   ]
  },
  {
   "cell_type": "markdown",
   "metadata": {
    "cell_id": "9095fbedbdd843858e7cc7dd488b70a3",
    "deepnote_cell_height": 52.390625,
    "deepnote_cell_type": "markdown",
    "tags": []
   },
   "source": [
    "Without hard-coding it, create an array with these values: `[ 0, 99,  2, 99,  4, 99, 6, 99,  8, 99]`"
   ]
  },
  {
   "cell_type": "code",
   "execution_count": 58,
   "metadata": {
    "cell_id": "c5b3d16f02ee40c7a4aa6e566c3d3e16",
    "deepnote_cell_height": 66,
    "deepnote_cell_type": "code",
    "tags": [
     "exercise"
    ]
   },
   "outputs": [
    {
     "data": {
      "text/plain": [
       "array([ 0, 99,  2, 99,  4, 99,  6, 99,  8, 99])"
      ]
     },
     "execution_count": 58,
     "metadata": {},
     "output_type": "execute_result"
    }
   ],
   "source": [
    "x = np.arange(10)\n",
    "x[1::2]=99\n",
    "x"
   ]
  },
  {
   "cell_type": "markdown",
   "metadata": {
    "cell_id": "e234f59fa41b4052a2bca4006ee9e5ec",
    "deepnote_cell_height": 52.390625,
    "deepnote_cell_type": "markdown",
    "tags": []
   },
   "source": [
    "Without hard-coding it, create an array with these values:\n",
    "`[  0, 100, 200, 300,   4,   5,   6,   7,   8,   9]`"
   ]
  },
  {
   "cell_type": "code",
   "execution_count": 61,
   "metadata": {
    "cell_id": "d716a3897d204cf0b17d4b727638c143",
    "deepnote_cell_height": 81,
    "deepnote_cell_type": "code",
    "deepnote_to_be_reexecuted": false,
    "execution_millis": 7,
    "execution_start": 1651065128745,
    "source_hash": "b623e53d",
    "tags": [
     "exercise"
    ]
   },
   "outputs": [
    {
     "data": {
      "text/plain": [
       "array([  0, 100, 200, 300,   4,   5,   6,   7,   8,   9])"
      ]
     },
     "execution_count": 61,
     "metadata": {},
     "output_type": "execute_result"
    }
   ],
   "source": [
    "x = np.arange(10)\n",
    "x[1:4] *= 100\n",
    "x"
   ]
  },
  {
   "cell_type": "markdown",
   "metadata": {
    "cell_id": "691333f20d29467383fa76a740aa1018",
    "deepnote_cell_height": 770.703125,
    "deepnote_cell_type": "markdown",
    "tags": []
   },
   "source": [
    "## Numpy Arrays\n",
    "\n",
    "#### Some Array Creation Functions (Review)\n",
    "| Function | Purpose |  Example |\n",
    "| :-----------: | :-------------: | :-------------: |\n",
    "| **np.array()**  | Turns a list into an array |   `np.array([2, 5, 3])` |\n",
    "| **np.arange()**                  | the integers between two values | `np.arange(2, 7)` |\n",
    "| **np.arange()**                  | the numbers between two values, with a given step size | `np.arange(2, 7, 0.5)` |\n",
    "| **np.linspace()**               | a given number of values between two values |  `np.linspace(2, 3, 10)` |\n",
    "| **np.zeros()**                    | Makes an array of all zeros | `np.zeros(5)` |\n",
    "| **np.ones()**                     | Makes an array of all ones | `np.ones(3)` |\n",
    "| **np.random.random()** | Makes an array of random numbers | `np.random.random(100)` |\n",
    "| **np.random.randn()**     | Makes an array of normally-distributed random numbers | `np.random.randn(100)` |\n",
    "| **np.random.randint()**     | Makes an array of uniformly-distributed random integers | `np.random.randint(-5, 10, 100)` |\n",
    "\n",
    "\n",
    "#### Important Array Attributes\n",
    "\n",
    "| Attribute     | Description                                          | Example Output   |\n",
    "| :-------:     | :---------:                                          | :-----:          |\n",
    "| **`x.dtype`**  | numpy data type (64-bit int, 32-bit float, etc)      | `dtype('int64')` | \n",
    "| **`x.shape`**  | number of elements along each dimension of the array | `(17,)`          |\n",
    "| **`x.size`**   | total number of values in the array                  | `17`             | \n",
    "| **`x.nbytes`** | total amount of memory the array takes up, in bytes  | `136`            |\n",
    "\n"
   ]
  },
  {
   "cell_type": "markdown",
   "metadata": {
    "cell_id": "686c3765178542e0bcf787d2dd43cfa7",
    "deepnote_cell_height": 88.78125,
    "deepnote_cell_type": "markdown",
    "tags": []
   },
   "source": [
    "**Exercises**\n",
    "\n",
    "Make the arrays requested in any way you'd like, then print the property requested from that created array."
   ]
  },
  {
   "cell_type": "markdown",
   "metadata": {
    "cell_id": "abd0997cad9c4cf7a2e384c80def0a81",
    "deepnote_cell_height": 52.390625,
    "deepnote_cell_type": "markdown",
    "tags": []
   },
   "source": [
    "**Example: All the integers from 3 to 10**"
   ]
  },
  {
   "cell_type": "code",
   "execution_count": 15,
   "metadata": {},
   "outputs": [
    {
     "data": {
      "text/plain": [
       "array([ 3,  4,  5,  6,  7,  8,  9, 10])"
      ]
     },
     "execution_count": 15,
     "metadata": {},
     "output_type": "execute_result"
    }
   ],
   "source": [
    "x = np.arange(3, 11)\n",
    "x"
   ]
  },
  {
   "cell_type": "markdown",
   "metadata": {
    "cell_id": "bf41a8661ac14eb2aaffee29877b31c0",
    "deepnote_cell_height": 52.390625,
    "deepnote_cell_type": "markdown",
    "tags": []
   },
   "source": [
    "How many total values are in this array?"
   ]
  },
  {
   "cell_type": "code",
   "execution_count": 16,
   "metadata": {},
   "outputs": [
    {
     "data": {
      "text/plain": [
       "8"
      ]
     },
     "execution_count": 16,
     "metadata": {},
     "output_type": "execute_result"
    }
   ],
   "source": [
    "x.size"
   ]
  },
  {
   "cell_type": "markdown",
   "metadata": {
    "cell_id": "20fdd3b9630441c6911332273485c047",
    "deepnote_cell_height": 52.390625,
    "deepnote_cell_type": "markdown",
    "tags": []
   },
   "source": [
    "**All the numbers from 2 to 6, spaced 0.3 apart.**"
   ]
  },
  {
   "cell_type": "code",
   "execution_count": 62,
   "metadata": {},
   "outputs": [
    {
     "data": {
      "text/plain": [
       "array([2. , 2.3, 2.6, 2.9, 3.2, 3.5, 3.8, 4.1, 4.4, 4.7, 5. , 5.3, 5.6,\n",
       "       5.9])"
      ]
     },
     "execution_count": 62,
     "metadata": {},
     "output_type": "execute_result"
    }
   ],
   "source": [
    "x = np.arange(2, 6, 0.3)\n",
    "x"
   ]
  },
  {
   "cell_type": "markdown",
   "metadata": {
    "cell_id": "d147d56712e14abbb1d9ef516a3e4372",
    "deepnote_cell_height": 52.390625,
    "deepnote_cell_type": "markdown",
    "tags": []
   },
   "source": [
    "What is the shape of this array?"
   ]
  },
  {
   "cell_type": "code",
   "execution_count": 18,
   "metadata": {},
   "outputs": [
    {
     "data": {
      "text/plain": [
       "(17,)"
      ]
     },
     "execution_count": 18,
     "metadata": {},
     "output_type": "execute_result"
    }
   ],
   "source": [
    "x.shape"
   ]
  },
  {
   "cell_type": "markdown",
   "metadata": {
    "cell_id": "6e123fcfe3304a40b755242a17f997d3",
    "deepnote_cell_height": 52.390625,
    "deepnote_cell_type": "markdown",
    "tags": []
   },
   "source": [
    "**9 numbers from 3 to 6, spaced equally apart.**"
   ]
  },
  {
   "cell_type": "code",
   "execution_count": 22,
   "metadata": {},
   "outputs": [
    {
     "data": {
      "text/plain": [
       "array([3.   , 3.375, 3.75 , 4.125, 4.5  , 4.875, 5.25 , 5.625, 6.   ])"
      ]
     },
     "execution_count": 22,
     "metadata": {},
     "output_type": "execute_result"
    }
   ],
   "source": [
    "x = np.linspace(3, 6, 9)\n",
    "x"
   ]
  },
  {
   "cell_type": "markdown",
   "metadata": {
    "cell_id": "aeedc843330d4de7bea09a5d8265cdbb",
    "deepnote_cell_height": 52.390625,
    "deepnote_cell_type": "markdown",
    "tags": []
   },
   "source": [
    "How many bytes does this array take up?"
   ]
  },
  {
   "cell_type": "code",
   "execution_count": 24,
   "metadata": {},
   "outputs": [
    {
     "data": {
      "text/plain": [
       "72"
      ]
     },
     "execution_count": 24,
     "metadata": {},
     "output_type": "execute_result"
    }
   ],
   "source": [
    "x.nbytes"
   ]
  },
  {
   "cell_type": "markdown",
   "metadata": {
    "cell_id": "15fd2dc068c848a096cfbed482e72a2b",
    "deepnote_cell_height": 52.390625,
    "deepnote_cell_type": "markdown",
    "tags": []
   },
   "source": [
    "**The square of the values 40, 20, 3, 5, and 10.**"
   ]
  },
  {
   "cell_type": "code",
   "execution_count": 26,
   "metadata": {},
   "outputs": [
    {
     "data": {
      "text/plain": [
       "array([1600,  400,    9,   25,  100])"
      ]
     },
     "execution_count": 26,
     "metadata": {},
     "output_type": "execute_result"
    }
   ],
   "source": [
    "x = np.array([40, 20, 3, 5, 10])\n",
    "x * x"
   ]
  },
  {
   "cell_type": "markdown",
   "metadata": {
    "cell_id": "9f7131dfc6284dcd917ab7249adf018b",
    "deepnote_cell_height": 52.390625,
    "deepnote_cell_type": "markdown",
    "tags": []
   },
   "source": [
    "What data type does this array hold?"
   ]
  },
  {
   "cell_type": "code",
   "execution_count": 27,
   "metadata": {},
   "outputs": [
    {
     "data": {
      "text/plain": [
       "dtype('int64')"
      ]
     },
     "execution_count": 27,
     "metadata": {},
     "output_type": "execute_result"
    }
   ],
   "source": [
    "x.dtype"
   ]
  },
  {
   "cell_type": "markdown",
   "metadata": {
    "cell_id": "3d4ef9c99abd4feaa78174f2b5b64a0f",
    "deepnote_cell_height": 52.390625,
    "deepnote_cell_type": "markdown",
    "tags": []
   },
   "source": [
    "**The square root of the values 32, 4, 3, and 6**"
   ]
  },
  {
   "cell_type": "code",
   "execution_count": 30,
   "metadata": {},
   "outputs": [
    {
     "data": {
      "text/plain": [
       "array([5.65685425, 2.        , 1.73205081, 2.44948974])"
      ]
     },
     "execution_count": 30,
     "metadata": {},
     "output_type": "execute_result"
    }
   ],
   "source": [
    "x = np.array([32, 4, 3, 6])\n",
    "np.sqrt(x)"
   ]
  },
  {
   "cell_type": "markdown",
   "metadata": {
    "cell_id": "37dca5f5fa884dbfbe0eb0f01d327a94",
    "deepnote_cell_height": 52.390625,
    "deepnote_cell_type": "markdown",
    "tags": []
   },
   "source": [
    "What data type does this array hold?"
   ]
  },
  {
   "cell_type": "code",
   "execution_count": 31,
   "metadata": {},
   "outputs": [
    {
     "data": {
      "text/plain": [
       "dtype('int64')"
      ]
     },
     "execution_count": 31,
     "metadata": {},
     "output_type": "execute_result"
    }
   ],
   "source": [
    "x.dtype"
   ]
  },
  {
   "cell_type": "markdown",
   "metadata": {
    "cell_id": "921e0376cc3e471ea93cfabb1184e9c5",
    "deepnote_cell_height": 52.390625,
    "deepnote_cell_type": "markdown",
    "tags": []
   },
   "source": [
    "**Ten random integers between -3 and 3**"
   ]
  },
  {
   "cell_type": "code",
   "execution_count": 64,
   "metadata": {},
   "outputs": [
    {
     "data": {
      "text/plain": [
       "array([-3, -1, -3, -2,  1,  2,  2, -3, -1,  1])"
      ]
     },
     "execution_count": 64,
     "metadata": {},
     "output_type": "execute_result"
    }
   ],
   "source": [
    "x = np.random.randint(-3, 3, 10)\n",
    "x"
   ]
  },
  {
   "cell_type": "markdown",
   "metadata": {
    "cell_id": "d85b7cc7c2884fbb8dac5f086f0f9919",
    "deepnote_cell_height": 52.390625,
    "deepnote_cell_type": "markdown",
    "tags": []
   },
   "source": [
    "What is this array's shape?"
   ]
  },
  {
   "cell_type": "code",
   "execution_count": 36,
   "metadata": {},
   "outputs": [
    {
     "data": {
      "text/plain": [
       "(10,)"
      ]
     },
     "execution_count": 36,
     "metadata": {},
     "output_type": "execute_result"
    }
   ],
   "source": [
    "x.shape"
   ]
  },
  {
   "cell_type": "markdown",
   "metadata": {
    "cell_id": "d1690f99c442427e9b00f33190562335",
    "deepnote_cell_height": 52.390625,
    "deepnote_cell_type": "markdown",
    "tags": []
   },
   "source": [
    "**Create an array of the following five three-letter animal names: dog, cat, pig, rat, ant**"
   ]
  },
  {
   "cell_type": "code",
   "execution_count": 39,
   "metadata": {},
   "outputs": [],
   "source": [
    "x = np.array(['dog','cat','pig','rat','ant'])\n"
   ]
  },
  {
   "cell_type": "markdown",
   "metadata": {
    "cell_id": "ed4a728fecd04db5bde8b10f9e04e8a5",
    "deepnote_cell_height": 52.390625,
    "deepnote_cell_type": "markdown",
    "tags": []
   },
   "source": [
    "What data type does this array hold?"
   ]
  },
  {
   "cell_type": "code",
   "execution_count": 40,
   "metadata": {},
   "outputs": [
    {
     "data": {
      "text/plain": [
       "dtype('<U3')"
      ]
     },
     "execution_count": 40,
     "metadata": {},
     "output_type": "execute_result"
    }
   ],
   "source": [
    "x.dtype"
   ]
  },
  {
   "cell_type": "markdown",
   "metadata": {
    "cell_id": "0f798f388be9404da5feebc30419a738",
    "deepnote_cell_height": 52.390625,
    "deepnote_cell_type": "markdown",
    "tags": []
   },
   "source": [
    "How many bytes does this array take up?  Why?"
   ]
  },
  {
   "cell_type": "code",
   "execution_count": 41,
   "metadata": {},
   "outputs": [
    {
     "data": {
      "text/plain": [
       "60"
      ]
     },
     "execution_count": 41,
     "metadata": {},
     "output_type": "execute_result"
    }
   ],
   "source": [
    "x.nbytes"
   ]
  },
  {
   "cell_type": "markdown",
   "metadata": {
    "cell_id": "3f15ec0bb2124fddbb85a0da3856057c",
    "deepnote_cell_height": 52.390625,
    "deepnote_cell_type": "markdown",
    "tags": []
   },
   "source": [
    "**Create an array of the following five animal names: dog, cat, pig, rat, anteater**"
   ]
  },
  {
   "cell_type": "code",
   "execution_count": 44,
   "metadata": {},
   "outputs": [],
   "source": [
    "x = np.array(['dog','cat','pig','rat','anteater'])\n"
   ]
  },
  {
   "cell_type": "markdown",
   "metadata": {
    "cell_id": "1f62d9cb9202422794d626c21b8131af",
    "deepnote_cell_height": 52.390625,
    "deepnote_cell_type": "markdown",
    "tags": []
   },
   "source": [
    "What data type does this array hold?"
   ]
  },
  {
   "cell_type": "code",
   "execution_count": 47,
   "metadata": {},
   "outputs": [
    {
     "data": {
      "text/plain": [
       "dtype('<U8')"
      ]
     },
     "execution_count": 47,
     "metadata": {},
     "output_type": "execute_result"
    }
   ],
   "source": [
    "x.dtype"
   ]
  },
  {
   "cell_type": "markdown",
   "metadata": {
    "cell_id": "2054cc8863cb45cfbad5684f2ccd3714",
    "deepnote_cell_height": 52.390625,
    "deepnote_cell_type": "markdown",
    "tags": []
   },
   "source": [
    "How many bytes does this array take up?  Why?"
   ]
  },
  {
   "cell_type": "code",
   "execution_count": 46,
   "metadata": {},
   "outputs": [
    {
     "data": {
      "text/plain": [
       "160"
      ]
     },
     "execution_count": 46,
     "metadata": {},
     "output_type": "execute_result"
    }
   ],
   "source": [
    "x.nbytes"
   ]
  },
  {
   "cell_type": "markdown",
   "metadata": {},
   "source": [
    "## Extra: Custom Dataset Generation\n",
    "\n",
    "| Syntax              |  Name \n",
    "| :---                | :--  \n",
    "| `x[0]`              | **Index**\n",
    "| `x[1:3]`            | **Slice**\n",
    "| `x[0] = 5`          | **Mutate**\n",
    "| `x[0:4] = 5`        | **Mutate**\n",
    "| `y = x * 5`         | **Transform**\n",
    "| `x[3:] = x[3:] * 5` | **Transform In-Place**\n",
    "| `x[3:] *= 5`        | **Transform In-Place** (shorter version)\n",
    "\n"
   ]
  },
  {
   "cell_type": "code",
   "execution_count": 14,
   "metadata": {
    "cell_id": "c5b3d16f02ee40c7a4aa6e566c3d3e16",
    "deepnote_cell_height": 66,
    "deepnote_cell_type": "code",
    "tags": [
     "exercise"
    ]
   },
   "outputs": [
    {
     "data": {
      "text/plain": [
       "array([ 0, 99,  2, 99,  4, 99,  6, 99,  8, 99])"
      ]
     },
     "execution_count": 14,
     "metadata": {},
     "output_type": "execute_result"
    }
   ],
   "source": []
  },
  {
   "cell_type": "code",
   "execution_count": 16,
   "metadata": {
    "cell_id": "d716a3897d204cf0b17d4b727638c143",
    "deepnote_cell_height": 81,
    "deepnote_cell_type": "code",
    "deepnote_to_be_reexecuted": false,
    "execution_millis": 7,
    "execution_start": 1651065128745,
    "source_hash": "b623e53d",
    "tags": [
     "exercise"
    ]
   },
   "outputs": [
    {
     "data": {
      "text/plain": [
       "array([  0, 100, 200, 300,   4,   5,   6,   7,   8,   9])"
      ]
     },
     "execution_count": 16,
     "metadata": {},
     "output_type": "execute_result"
    }
   ],
   "source": []
  }
 ],
 "metadata": {
  "colab": {
   "name": "7 Matrices.ipynb",
   "provenance": []
  },
  "deepnote": {},
  "deepnote_execution_queue": [],
  "deepnote_notebook_id": "ab3d3c5a444244bf987f3e6b75843036",
  "kernelspec": {
   "display_name": "Python 3",
   "language": "python",
   "name": "python3"
  },
  "language_info": {
   "codemirror_mode": {
    "name": "ipython",
    "version": 3
   },
   "file_extension": ".py",
   "mimetype": "text/x-python",
   "name": "python",
   "nbconvert_exporter": "python",
   "pygments_lexer": "ipython3",
   "version": "3.10.12"
  }
 },
 "nbformat": 4,
 "nbformat_minor": 4
}
