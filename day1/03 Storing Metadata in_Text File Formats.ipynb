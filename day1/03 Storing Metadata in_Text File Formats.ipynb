{
 "cells": [
  {
   "cell_type": "markdown",
   "metadata": {},
   "source": [
    "## Extracting Metadata From Files: Exploring Different Widely-Used, Text-Based File Formats\n",
    "\n",
    "Somehow, we have to store get our data into files; otherwise, we'd lose our data every time we exited Python!  Ideally, the way we store our data will make it easy to read and write, both in our own favorite computational environment and in those of our colleagues, without requiring that everyone develop some ultra-complex custom code.  \n",
    "\n",
    "That's where standardized file formats come in.  In this set of exercises, we'll practice **serializing** data into a string that we can write into a text file and **deserializing** text into Python data structures, using three different text file formats: \n",
    "\n",
    "  - **JSON** (Javascript Object Notation)\n",
    "  - **XML** (Extensible Markup Language)\n",
    "  - **YAML** (Yet Another Markup Language)"
   ]
  },
  {
   "cell_type": "markdown",
   "metadata": {},
   "source": [
    "### File Objects in Python\n",
    "\n",
    "| **Code** | **Description** |\n",
    "| :-- | :-- |\n",
    "| **`f = open('newfile', 'w')`** | Makes a file object that is linked to a newly-opened file called 'newfile' that expects to do text writing. |\n",
    "| **`f = open('oldfile', 'r')`** | Makes a file object that is linked to an existing file called 'oldfile' that expects to do text reading. **Note**: the 'r' is optional, as it is the default \"file mode\" for the `open()` function.|\n",
    "| **`f.write(text)`** | Writes the string in `text` to the text file linked to `f` |\n",
    "| **`text = f.read()`** | Reads all the text stored in the text file linked to `f` |\n",
    "| **`f.close()`** | Closes the file that is linked to the file object `f`. |"
   ]
  },
  {
   "cell_type": "markdown",
   "metadata": {},
   "source": [
    "**Exercises**"
   ]
  },
  {
   "cell_type": "markdown",
   "metadata": {},
   "source": [
    "**Example**: Write the text, \"Hello, World!\" into a text file called `hello.txt`, then close the file."
   ]
  },
  {
   "cell_type": "code",
   "execution_count": 1,
   "metadata": {},
   "outputs": [],
   "source": [
    "f = open('hello.txt', 'w')\n",
    "f.write('Hello, World!')\n",
    "f.close()"
   ]
  },
  {
   "cell_type": "markdown",
   "metadata": {},
   "source": [
    "Write the text, \"Goodbye, everyone.' into a text file called `bye.txt`, then close the file."
   ]
  },
  {
   "cell_type": "code",
   "execution_count": 2,
   "metadata": {},
   "outputs": [],
   "source": [
    "f = open('bye.txt', 'w')\n",
    "f.write('Goodbye, everyone.')\n",
    "f.close()"
   ]
  },
  {
   "cell_type": "markdown",
   "metadata": {},
   "source": [
    "Try writing the text, \"Does this work?\" to the file object after it has already been closed.  You should see an error (after all, the file is not open to writing!)  What type of error do you get?"
   ]
  },
  {
   "cell_type": "code",
   "execution_count": 3,
   "metadata": {},
   "outputs": [
    {
     "ename": "ValueError",
     "evalue": "I/O operation on closed file.",
     "output_type": "error",
     "traceback": [
      "\u001b[0;31m---------------------------------------------------------------------------\u001b[0m",
      "\u001b[0;31mValueError\u001b[0m                                Traceback (most recent call last)",
      "\u001b[0;32m/tmp/ipykernel_40582/3712326937.py\u001b[0m in \u001b[0;36m<module>\u001b[0;34m\u001b[0m\n\u001b[0;32m----> 1\u001b[0;31m \u001b[0mf\u001b[0m\u001b[0;34m.\u001b[0m\u001b[0mwrite\u001b[0m\u001b[0;34m(\u001b[0m\u001b[0;34m'Does this work?'\u001b[0m\u001b[0;34m)\u001b[0m\u001b[0;34m\u001b[0m\u001b[0;34m\u001b[0m\u001b[0m\n\u001b[0m",
      "\u001b[0;31mValueError\u001b[0m: I/O operation on closed file."
     ]
    }
   ],
   "source": [
    "f.write('Does this work?')\n"
   ]
  },
  {
   "cell_type": "markdown",
   "metadata": {},
   "source": [
    "Read the text from the file `bye.txt` into the string variable `text`."
   ]
  },
  {
   "cell_type": "code",
   "execution_count": 8,
   "metadata": {},
   "outputs": [
    {
     "data": {
      "text/plain": [
       "'Goodbye, everyone.'"
      ]
     },
     "execution_count": 8,
     "metadata": {},
     "output_type": "execute_result"
    }
   ],
   "source": [
    "f = open('bye.txt','r')\n",
    "text = f.read()\n",
    "text"
   ]
  },
  {
   "cell_type": "markdown",
   "metadata": {},
   "source": [
    "Write the string 'Emma' into a the file \"subj001.txt\" in the \"data/raw\" folder:"
   ]
  },
  {
   "cell_type": "code",
   "execution_count": 17,
   "metadata": {},
   "outputs": [
    {
     "data": {
      "text/plain": [
       "4"
      ]
     },
     "execution_count": 17,
     "metadata": {},
     "output_type": "execute_result"
    }
   ],
   "source": [
    "import os\n",
    "os.makedirs('./data/raw', exist_ok = True)\n",
    "f = open('./data/raw/subject001.txt', 'w')\n",
    "f.write('Emma')"
   ]
  },
  {
   "cell_type": "markdown",
   "metadata": {},
   "source": [
    "Write the number `10` into the file `ten.txt`."
   ]
  },
  {
   "cell_type": "code",
   "execution_count": 34,
   "metadata": {},
   "outputs": [],
   "source": [
    "import os\n",
    "os.makedirs('./data/raw', exist_ok = True)\n",
    "f = open('./data/raw/ten.txt', 'w')\n",
    "f.write('10')\n",
    "f.close()\n"
   ]
  },
  {
   "cell_type": "markdown",
   "metadata": {},
   "source": [
    "Read the number from `10.txt` into the integer variable `data`."
   ]
  },
  {
   "cell_type": "code",
   "execution_count": 37,
   "metadata": {},
   "outputs": [
    {
     "name": "stdout",
     "output_type": "stream",
     "text": [
      "10\n"
     ]
    },
    {
     "data": {
      "text/plain": [
       "str"
      ]
     },
     "execution_count": 37,
     "metadata": {},
     "output_type": "execute_result"
    }
   ],
   "source": [
    "f = open('./data/raw/ten.txt')\n",
    "data = f.read()\n",
    "print(data)\n",
    "type(data)"
   ]
  },
  {
   "cell_type": "markdown",
   "metadata": {},
   "source": [
    "**Extra, max 3 minutes on this exercise**: The file created below has 5 numbers written into it.  Read the 5 numbers into a python list of floats."
   ]
  },
  {
   "cell_type": "code",
   "execution_count": 74,
   "metadata": {},
   "outputs": [],
   "source": [
    "f = open('data.txt', 'w')\n",
    "f.write('[5, 6.2, 3.12, 1.0000, 2]\\n')\n",
    "f.close()"
   ]
  },
  {
   "cell_type": "code",
   "execution_count": null,
   "metadata": {},
   "outputs": [],
   "source": []
  },
  {
   "cell_type": "markdown",
   "metadata": {},
   "source": [
    "As you can probably see, this is a bit tricky without some extra utility functions to say how to **parse** the text into a data structure.  If we have a **standard file format**, however, then we can use the same parsing functions on any data file in that format, to get the data in and out of that file. \n",
    "\n",
    "Below, we'll review three different text file formats and get some practice with the functions in libraries used to read and write data into those formats."
   ]
  },
  {
   "cell_type": "markdown",
   "metadata": {},
   "source": [
    "---"
   ]
  },
  {
   "cell_type": "markdown",
   "metadata": {},
   "source": [
    "### The JSON and YAML File Formats\n",
    "\n",
    "Serialization libraries have functions to change data into their data structure; these functions usually come in pairs to indicate writing and reading:\n",
    "  - `serialize()` and `deserialize()`\n",
    "  - `parse()` and `unparse()`\n",
    "  - `dump()` and `load()`\n",
    "\n",
    "Which pair of terms is used depends on the libary.  \n",
    "\n",
    "Here, we'll try out YAML and JSON, two very-popular text-based file formats, to take complex dict- and list- data structures and read and write them to files.  A nice reference sheet showing how YAML and JSON syntaxes are related to each other: https://quickref.me/yaml.html  . \n",
    "\n",
    "\n",
    "| Code | Description |\n",
    "| :-- | :-- |\n",
    "| **Reading** |\n",
    "| **`data = json.load(f)`** | Read a file object storing JSON data. |\n",
    "| **`data = yaml.load(f, loader=yaml.Loader)`**  | Read a file object storing YAML data. |\n",
    "| --- | --- |\n",
    "| **Writing** | |\n",
    "| **`json.dump(data, f, indent=3)`** | Write data into a JSON text file. (indent=3 is optional, it makes it easiser to read visually in a text editor)| \n",
    "| **`yaml.dump(mdata, f)`** | Write data into a YAML text file.  |\n",
    "\n"
   ]
  },
  {
   "cell_type": "markdown",
   "metadata": {},
   "source": [
    "**Exercises**"
   ]
  },
  {
   "cell_type": "code",
   "execution_count": 75,
   "metadata": {},
   "outputs": [],
   "source": [
    "# %pip install PyYAML"
   ]
  },
  {
   "cell_type": "code",
   "execution_count": 76,
   "metadata": {},
   "outputs": [],
   "source": [
    "import json\n",
    "import yaml"
   ]
  },
  {
   "cell_type": "markdown",
   "metadata": {},
   "source": [
    "**Exercises**: All of the following exercises use the metdata data structure below:"
   ]
  },
  {
   "cell_type": "code",
   "execution_count": 77,
   "metadata": {},
   "outputs": [
    {
     "data": {
      "text/plain": [
       "{'metadata': {'height': 1080,\n",
       "  'width': 1920,\n",
       "  'order': 'RGB',\n",
       "  'date': '2024-12-24',\n",
       "  'subject': {'id': 'x134',\n",
       "   'name': 'Scratchy',\n",
       "   'sources': ['Cartoon', 'The Simpsons Lab, Springfield']},\n",
       "  'researchers': ['Itchy', 'Bart', 'Lisa']}}"
      ]
     },
     "execution_count": 77,
     "metadata": {},
     "output_type": "execute_result"
    }
   ],
   "source": [
    "mdata = {\n",
    "    'metadata': {\n",
    "        'height': 1080, \n",
    "        'width': 1920, \n",
    "        'order': 'RGB', \n",
    "        'date': '2024-12-24', \n",
    "        'subject': {\n",
    "            'id': 'x134', \n",
    "            'name': 'Scratchy', \n",
    "            'sources': ['Cartoon', 'The Simpsons Lab, Springfield']\n",
    "        }, \n",
    "        'researchers': ['Itchy', 'Bart', 'Lisa']\n",
    "    }\n",
    "} \n",
    "mdata"
   ]
  },
  {
   "cell_type": "markdown",
   "metadata": {},
   "source": [
    "**Example**: Write the metadata a JSON file called `recording1.json`:"
   ]
  },
  {
   "cell_type": "code",
   "execution_count": 78,
   "metadata": {},
   "outputs": [],
   "source": [
    "f = open('recording1.json', 'w')\n",
    "json.dump(mdata, f, indent=3)\n",
    "f.close()"
   ]
  },
  {
   "cell_type": "markdown",
   "metadata": {},
   "source": [
    "Once the `recording1.json` file is created, try opening it up in  a text editor, and get a sense of how the file is written.  "
   ]
  },
  {
   "cell_type": "markdown",
   "metadata": {},
   "source": [
    "Read the file back into a variable called `data_from_json`.   Was the data read back in correctly?"
   ]
  },
  {
   "cell_type": "code",
   "execution_count": null,
   "metadata": {},
   "outputs": [],
   "source": []
  },
  {
   "cell_type": "markdown",
   "metadata": {},
   "source": [
    "Write the metadata to a YAML file called `recording1.yml`:"
   ]
  },
  {
   "cell_type": "code",
   "execution_count": 31,
   "metadata": {},
   "outputs": [],
   "source": []
  },
  {
   "cell_type": "markdown",
   "metadata": {},
   "source": [
    "Translate the following sentence to a Python data structure and save it to either a JSON or YAML file called `capture.json` or `capture.yml`: *\"The image has a width of 1080 pixels, a height of 720 pixels, saved data in RGB format. The camera settings had an exposure time of 8 milliseconds, an aperture of 2.8 stops, and an ISO setting of 100.\"*"
   ]
  },
  {
   "cell_type": "code",
   "execution_count": 32,
   "metadata": {},
   "outputs": [],
   "source": []
  },
  {
   "cell_type": "markdown",
   "metadata": {},
   "source": [
    "Read the file back to a Python variable to check that it was saved correctly. (Note: this is sometimes called a \"round-trip\" test.)"
   ]
  },
  {
   "cell_type": "code",
   "execution_count": null,
   "metadata": {},
   "outputs": [],
   "source": []
  },
  {
   "cell_type": "markdown",
   "metadata": {},
   "source": [
    "---"
   ]
  },
  {
   "cell_type": "markdown",
   "metadata": {},
   "source": [
    "### The XML File Format\n",
    "\n",
    "The XML file format is also used to store data, and is extremely popular; it's even used to store OdML data, which is the metadata format used by Nix!  Here, we'll get a sense of what XML looks like, so that when we see richer metadata files, we can more-easily grok what Nix and OdML are doing.\n",
    "\n",
    "Even though Python has an `xml` package included in its standard library, it can be quite complex to use.  Here, we're using the simpler `xmltodict` package to do basic reading and writing to xml.\n",
    "\n",
    "| **Code** | **Description** |\n",
    "| :--  | :-- |\n",
    "| **`f = open('file.xml', 'wb')`** | Open a writable file in \"binary\" mode |\n",
    "| **`f = open('file.xml', 'rb')`** | Open a readable file in \"binary\" mode |\n",
    "| **`xmltodict.unparse(data, f)`** | Write the data to the binary file linked to `f` |\n",
    "| **`data = xmltodict.parse(f)`** | Read the data in the binary file linked to `f`. |"
   ]
  },
  {
   "cell_type": "code",
   "execution_count": 79,
   "metadata": {},
   "outputs": [],
   "source": [
    "# %pip install xmltodict"
   ]
  },
  {
   "cell_type": "code",
   "execution_count": 80,
   "metadata": {},
   "outputs": [],
   "source": [
    "import xmltodict"
   ]
  },
  {
   "cell_type": "markdown",
   "metadata": {},
   "source": [
    "**Exercises**"
   ]
  },
  {
   "cell_type": "markdown",
   "metadata": {},
   "source": [
    "Here is our metadata structure again:"
   ]
  },
  {
   "cell_type": "code",
   "execution_count": 81,
   "metadata": {},
   "outputs": [
    {
     "data": {
      "text/plain": [
       "{'metadata': {'height': 1080,\n",
       "  'width': 1920,\n",
       "  'order': 'RGB',\n",
       "  'date': '2024-12-24',\n",
       "  'subject': {'id': 'x134',\n",
       "   'name': 'Scratchy',\n",
       "   'sources': ['Cartoon', 'The Simpsons Lab, Springfield']},\n",
       "  'researchers': ['Itchy', 'Bart', 'Lisa']}}"
      ]
     },
     "execution_count": 81,
     "metadata": {},
     "output_type": "execute_result"
    }
   ],
   "source": [
    "mdata = {\n",
    "    'metadata': {\n",
    "        'height': 1080, \n",
    "        'width': 1920, \n",
    "        'order': 'RGB', \n",
    "        'date': '2024-12-24', \n",
    "        'subject': {\n",
    "            'id': 'x134', \n",
    "            'name': 'Scratchy', \n",
    "            'sources': ['Cartoon', 'The Simpsons Lab, Springfield']\n",
    "        }, \n",
    "        'researchers': ['Itchy', 'Bart', 'Lisa']\n",
    "    }\n",
    "} \n",
    "mdata"
   ]
  },
  {
   "cell_type": "markdown",
   "metadata": {},
   "source": [
    "Write this `mdata` data structure to `data.xml`."
   ]
  },
  {
   "cell_type": "code",
   "execution_count": 48,
   "metadata": {},
   "outputs": [],
   "source": []
  },
  {
   "cell_type": "markdown",
   "metadata": {},
   "source": [
    "Take a look at the text file.  Can you see how the data has been encoded in XML?"
   ]
  },
  {
   "cell_type": "markdown",
   "metadata": {},
   "source": [
    "Read the `data.xml` file back into Python.  Did it read correctly?  (Note: the `xmltodict.parse()` function requires a \"bytes\" file, so use `'rb'` as the )"
   ]
  },
  {
   "cell_type": "code",
   "execution_count": null,
   "metadata": {},
   "outputs": [],
   "source": []
  },
  {
   "cell_type": "markdown",
   "metadata": {},
   "source": [
    "XML also allows for more-complex structures.  For example, the text below is valid xml:"
   ]
  },
  {
   "cell_type": "code",
   "execution_count": 82,
   "metadata": {},
   "outputs": [],
   "source": [
    "text_xml = \"\"\"\n",
    "<root>\n",
    "  <stimuli>\n",
    "    <redleftc color=\"red\" form=\"circle\" side=\"left\">Red Circle on the Left Side</redleftc>\n",
    "    <redrights color=\"red\" form=\"square\" side=\"right\">Red Square on the Right Side</redrights>\n",
    "  </stimuli>\n",
    "</root>\n",
    "\"\"\"\n"
   ]
  },
  {
   "cell_type": "markdown",
   "metadata": {},
   "source": [
    "Parse the `text_xml` string into a Python variable called `dset`, and get the side that the \"redrights\" stimuli appears on the screen:"
   ]
  },
  {
   "cell_type": "code",
   "execution_count": null,
   "metadata": {},
   "outputs": [],
   "source": []
  },
  {
   "cell_type": "markdown",
   "metadata": {},
   "source": [
    "Note: This \"@\" syntax is something special that the `xmltodict` library uses; it's not part of the XML syntax, and is just a way to make it easier to build a valid Python dict from the xml code.  This is part of the work that always happens when gluing two technologies together, and every library will have a different solution. "
   ]
  }
 ],
 "metadata": {
  "kernelspec": {
   "display_name": "Python 3",
   "language": "python",
   "name": "python3"
  },
  "language_info": {
   "codemirror_mode": {
    "name": "ipython",
    "version": 3
   },
   "file_extension": ".py",
   "mimetype": "text/x-python",
   "name": "python",
   "nbconvert_exporter": "python",
   "pygments_lexer": "ipython3",
   "version": "3.10.12"
  }
 },
 "nbformat": 4,
 "nbformat_minor": 2
}
