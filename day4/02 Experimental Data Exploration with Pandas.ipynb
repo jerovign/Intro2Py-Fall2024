{
 "cells": [
  {
   "cell_type": "code",
   "execution_count": 1,
   "metadata": {},
   "outputs": [
    {
     "name": "stdout",
     "output_type": "stream",
     "text": [
      "Defaulting to user installation because normal site-packages is not writeable\n",
      "Requirement already satisfied: pandas in /home/jeromine/.local/lib/python3.10/site-packages (2.2.3)\n",
      "Requirement already satisfied: seaborn in /home/jeromine/.local/lib/python3.10/site-packages (0.13.0)\n",
      "Requirement already satisfied: python-dateutil>=2.8.2 in /home/jeromine/.local/lib/python3.10/site-packages (from pandas) (2.8.2)\n",
      "Requirement already satisfied: pytz>=2020.1 in /usr/lib/python3/dist-packages (from pandas) (2022.1)\n",
      "Requirement already satisfied: tzdata>=2022.7 in /home/jeromine/.local/lib/python3.10/site-packages (from pandas) (2023.3)\n",
      "Requirement already satisfied: numpy>=1.22.4 in /home/jeromine/.local/lib/python3.10/site-packages (from pandas) (2.1.2)\n",
      "Requirement already satisfied: matplotlib!=3.6.1,>=3.3 in /home/jeromine/.local/lib/python3.10/site-packages (from seaborn) (3.9.2)\n",
      "Requirement already satisfied: packaging>=20.0 in /home/jeromine/.local/lib/python3.10/site-packages (from matplotlib!=3.6.1,>=3.3->seaborn) (24.1)\n",
      "Requirement already satisfied: fonttools>=4.22.0 in /usr/lib/python3/dist-packages (from matplotlib!=3.6.1,>=3.3->seaborn) (4.29.1)\n",
      "Requirement already satisfied: contourpy>=1.0.1 in /home/jeromine/.local/lib/python3.10/site-packages (from matplotlib!=3.6.1,>=3.3->seaborn) (1.3.0)\n",
      "Requirement already satisfied: pyparsing>=2.3.1 in /usr/lib/python3/dist-packages (from matplotlib!=3.6.1,>=3.3->seaborn) (2.4.7)\n",
      "Requirement already satisfied: kiwisolver>=1.3.1 in /usr/lib/python3/dist-packages (from matplotlib!=3.6.1,>=3.3->seaborn) (1.3.2)\n",
      "Requirement already satisfied: pillow>=8 in /usr/lib/python3/dist-packages (from matplotlib!=3.6.1,>=3.3->seaborn) (9.0.1)\n",
      "Requirement already satisfied: cycler>=0.10 in /usr/lib/python3/dist-packages (from matplotlib!=3.6.1,>=3.3->seaborn) (0.11.0)\n",
      "Requirement already satisfied: six>=1.5 in /usr/lib/python3/dist-packages (from python-dateutil>=2.8.2->pandas) (1.16.0)\n",
      "Note: you may need to restart the kernel to use updated packages.\n"
     ]
    }
   ],
   "source": [
    "%pip install pandas seaborn"
   ]
  },
  {
   "cell_type": "code",
   "execution_count": 2,
   "metadata": {},
   "outputs": [
    {
     "name": "stderr",
     "output_type": "stream",
     "text": [
      "/home/jeromine/.local/lib/python3.10/site-packages/matplotlib/projections/__init__.py:63: UserWarning: Unable to import Axes3D. This may be due to multiple versions of Matplotlib being installed (e.g. as a system package and as a pip package). As a result, the 3D projection is not available.\n",
      "  warnings.warn(\"Unable to import Axes3D. This may be due to multiple versions of \"\n"
     ]
    }
   ],
   "source": [
    "import pandas as pd\n",
    "import seaborn as sns"
   ]
  },
  {
   "cell_type": "markdown",
   "metadata": {},
   "source": [
    "# Pandas and DataFrames\n",
    "\n",
    "Often, we have tables of data--collections of named columns arranged in rows.  The **Pandas** package gives us a **DataFrame()** class that lets us index these columns the same way as with dicts, while still getting the benefit of Numpy arrays, meaning we can still write vectorized code.  \n",
    "\n",
    "Let's start playing with the analysis now.  We'll examine Pandas in more depth in the coming days."
   ]
  },
  {
   "cell_type": "markdown",
   "metadata": {},
   "source": [
    "## Today's Dataset: Mental Rotation Psychology Experiment\n",
    "\n",
    "![Mental Rotation Task Example](http://mercercognitivepsychology.pbworks.com/f/1353970952/mental-rotation-image.gif)"
   ]
  },
  {
   "cell_type": "markdown",
   "metadata": {},
   "source": [
    "## Loading the Data\n",
    "\n",
    "Please open the file “MentalRotation.csv” found at the url below (pd.read_csv()) and use it to answer the following questions about the results of the Mental Rotation psychology experiment. If you reach the end of the exercises, explore the dataset and DataFrames more and see what you can find about this experiment!"
   ]
  },
  {
   "cell_type": "code",
   "execution_count": 3,
   "metadata": {},
   "outputs": [],
   "source": [
    "url = \"https://raw.githubusercontent.com/nickdelgrosso/CodeTeachingMaterials/main/datasets/MentalRotation.csv\""
   ]
  },
  {
   "cell_type": "code",
   "execution_count": 8,
   "metadata": {
    "tags": [
     "exercise"
    ]
   },
   "outputs": [],
   "source": [
    "df = pd.read_csv(url)"
   ]
  },
  {
   "cell_type": "markdown",
   "metadata": {},
   "source": [
    "## Examining the Dataset\n",
    "\n",
    "| With Slicing | With Method | With Function |\n",
    "| :-- | :-- | :-- |\n",
    "| `df[:5]` | `df.head()` |   |\n",
    "| `df[-5:]` | `df.tail()` |  |\n",
    "|  | `df.sample(5)` |   | \n",
    "|  | `df.info()` |   |\n",
    "|  | `df.describe()` |   |\n",
    "|  | `df.shape[0]` | `len(df)` |"
   ]
  },
  {
   "cell_type": "markdown",
   "metadata": {},
   "source": [
    "Print the first 5 lines of the dataset:"
   ]
  },
  {
   "cell_type": "code",
   "execution_count": 9,
   "metadata": {
    "tags": [
     "exercise"
    ]
   },
   "outputs": [
    {
     "data": {
      "text/html": [
       "<div>\n",
       "<style scoped>\n",
       "    .dataframe tbody tr th:only-of-type {\n",
       "        vertical-align: middle;\n",
       "    }\n",
       "\n",
       "    .dataframe tbody tr th {\n",
       "        vertical-align: top;\n",
       "    }\n",
       "\n",
       "    .dataframe thead th {\n",
       "        text-align: right;\n",
       "    }\n",
       "</style>\n",
       "<table border=\"1\" class=\"dataframe\">\n",
       "  <thead>\n",
       "    <tr style=\"text-align: right;\">\n",
       "      <th></th>\n",
       "      <th>Subject</th>\n",
       "      <th>Trial</th>\n",
       "      <th>Angle</th>\n",
       "      <th>Matching</th>\n",
       "      <th>Response</th>\n",
       "      <th>Time</th>\n",
       "      <th>Correct</th>\n",
       "      <th>Age</th>\n",
       "      <th>Sex</th>\n",
       "    </tr>\n",
       "  </thead>\n",
       "  <tbody>\n",
       "    <tr>\n",
       "      <th>0</th>\n",
       "      <td>49</td>\n",
       "      <td>1</td>\n",
       "      <td>0</td>\n",
       "      <td>0</td>\n",
       "      <td>n</td>\n",
       "      <td>3107</td>\n",
       "      <td>1</td>\n",
       "      <td>32</td>\n",
       "      <td>M</td>\n",
       "    </tr>\n",
       "    <tr>\n",
       "      <th>1</th>\n",
       "      <td>49</td>\n",
       "      <td>2</td>\n",
       "      <td>150</td>\n",
       "      <td>0</td>\n",
       "      <td>n</td>\n",
       "      <td>2930</td>\n",
       "      <td>1</td>\n",
       "      <td>32</td>\n",
       "      <td>M</td>\n",
       "    </tr>\n",
       "    <tr>\n",
       "      <th>2</th>\n",
       "      <td>49</td>\n",
       "      <td>3</td>\n",
       "      <td>150</td>\n",
       "      <td>1</td>\n",
       "      <td>b</td>\n",
       "      <td>1874</td>\n",
       "      <td>1</td>\n",
       "      <td>32</td>\n",
       "      <td>M</td>\n",
       "    </tr>\n",
       "    <tr>\n",
       "      <th>3</th>\n",
       "      <td>49</td>\n",
       "      <td>4</td>\n",
       "      <td>100</td>\n",
       "      <td>1</td>\n",
       "      <td>b</td>\n",
       "      <td>3793</td>\n",
       "      <td>1</td>\n",
       "      <td>32</td>\n",
       "      <td>M</td>\n",
       "    </tr>\n",
       "    <tr>\n",
       "      <th>4</th>\n",
       "      <td>49</td>\n",
       "      <td>5</td>\n",
       "      <td>50</td>\n",
       "      <td>1</td>\n",
       "      <td>b</td>\n",
       "      <td>2184</td>\n",
       "      <td>1</td>\n",
       "      <td>32</td>\n",
       "      <td>M</td>\n",
       "    </tr>\n",
       "  </tbody>\n",
       "</table>\n",
       "</div>"
      ],
      "text/plain": [
       "   Subject  Trial  Angle  Matching Response  Time  Correct  Age Sex\n",
       "0       49      1      0         0        n  3107        1   32   M\n",
       "1       49      2    150         0        n  2930        1   32   M\n",
       "2       49      3    150         1        b  1874        1   32   M\n",
       "3       49      4    100         1        b  3793        1   32   M\n",
       "4       49      5     50         1        b  2184        1   32   M"
      ]
     },
     "execution_count": 9,
     "metadata": {},
     "output_type": "execute_result"
    }
   ],
   "source": [
    "df[:5]"
   ]
  },
  {
   "cell_type": "markdown",
   "metadata": {},
   "source": [
    "Look at the last 5 lines of the dataset"
   ]
  },
  {
   "cell_type": "code",
   "execution_count": 14,
   "metadata": {
    "tags": [
     "exercise"
    ]
   },
   "outputs": [
    {
     "data": {
      "text/html": [
       "<div>\n",
       "<style scoped>\n",
       "    .dataframe tbody tr th:only-of-type {\n",
       "        vertical-align: middle;\n",
       "    }\n",
       "\n",
       "    .dataframe tbody tr th {\n",
       "        vertical-align: top;\n",
       "    }\n",
       "\n",
       "    .dataframe thead th {\n",
       "        text-align: right;\n",
       "    }\n",
       "</style>\n",
       "<table border=\"1\" class=\"dataframe\">\n",
       "  <thead>\n",
       "    <tr style=\"text-align: right;\">\n",
       "      <th></th>\n",
       "      <th>Subject</th>\n",
       "      <th>Trial</th>\n",
       "      <th>Angle</th>\n",
       "      <th>Matching</th>\n",
       "      <th>Response</th>\n",
       "      <th>Time</th>\n",
       "      <th>Correct</th>\n",
       "      <th>Age</th>\n",
       "      <th>Sex</th>\n",
       "    </tr>\n",
       "  </thead>\n",
       "  <tbody>\n",
       "    <tr>\n",
       "      <th>5066</th>\n",
       "      <td>33</td>\n",
       "      <td>92</td>\n",
       "      <td>150</td>\n",
       "      <td>1</td>\n",
       "      <td>b</td>\n",
       "      <td>2095</td>\n",
       "      <td>1</td>\n",
       "      <td>20</td>\n",
       "      <td>F</td>\n",
       "    </tr>\n",
       "    <tr>\n",
       "      <th>5067</th>\n",
       "      <td>33</td>\n",
       "      <td>93</td>\n",
       "      <td>150</td>\n",
       "      <td>0</td>\n",
       "      <td>n</td>\n",
       "      <td>2125</td>\n",
       "      <td>1</td>\n",
       "      <td>20</td>\n",
       "      <td>F</td>\n",
       "    </tr>\n",
       "    <tr>\n",
       "      <th>5068</th>\n",
       "      <td>33</td>\n",
       "      <td>94</td>\n",
       "      <td>50</td>\n",
       "      <td>0</td>\n",
       "      <td>n</td>\n",
       "      <td>1226</td>\n",
       "      <td>1</td>\n",
       "      <td>20</td>\n",
       "      <td>F</td>\n",
       "    </tr>\n",
       "    <tr>\n",
       "      <th>5069</th>\n",
       "      <td>33</td>\n",
       "      <td>95</td>\n",
       "      <td>100</td>\n",
       "      <td>1</td>\n",
       "      <td>b</td>\n",
       "      <td>2783</td>\n",
       "      <td>1</td>\n",
       "      <td>20</td>\n",
       "      <td>F</td>\n",
       "    </tr>\n",
       "    <tr>\n",
       "      <th>5070</th>\n",
       "      <td>33</td>\n",
       "      <td>96</td>\n",
       "      <td>0</td>\n",
       "      <td>0</td>\n",
       "      <td>n</td>\n",
       "      <td>1017</td>\n",
       "      <td>1</td>\n",
       "      <td>20</td>\n",
       "      <td>F</td>\n",
       "    </tr>\n",
       "  </tbody>\n",
       "</table>\n",
       "</div>"
      ],
      "text/plain": [
       "      Subject  Trial  Angle  Matching Response  Time  Correct  Age Sex\n",
       "5066       33     92    150         1        b  2095        1   20   F\n",
       "5067       33     93    150         0        n  2125        1   20   F\n",
       "5068       33     94     50         0        n  1226        1   20   F\n",
       "5069       33     95    100         1        b  2783        1   20   F\n",
       "5070       33     96      0         0        n  1017        1   20   F"
      ]
     },
     "execution_count": 14,
     "metadata": {},
     "output_type": "execute_result"
    }
   ],
   "source": [
    "df[-5:]"
   ]
  },
  {
   "cell_type": "markdown",
   "metadata": {},
   "source": [
    "Check 3 random lines in the dataset."
   ]
  },
  {
   "cell_type": "code",
   "execution_count": 21,
   "metadata": {
    "tags": [
     "exercise"
    ]
   },
   "outputs": [
    {
     "data": {
      "text/html": [
       "<div>\n",
       "<style scoped>\n",
       "    .dataframe tbody tr th:only-of-type {\n",
       "        vertical-align: middle;\n",
       "    }\n",
       "\n",
       "    .dataframe tbody tr th {\n",
       "        vertical-align: top;\n",
       "    }\n",
       "\n",
       "    .dataframe thead th {\n",
       "        text-align: right;\n",
       "    }\n",
       "</style>\n",
       "<table border=\"1\" class=\"dataframe\">\n",
       "  <thead>\n",
       "    <tr style=\"text-align: right;\">\n",
       "      <th></th>\n",
       "      <th>Subject</th>\n",
       "      <th>Trial</th>\n",
       "      <th>Angle</th>\n",
       "      <th>Matching</th>\n",
       "      <th>Response</th>\n",
       "      <th>Time</th>\n",
       "      <th>Correct</th>\n",
       "      <th>Age</th>\n",
       "      <th>Sex</th>\n",
       "    </tr>\n",
       "  </thead>\n",
       "  <tbody>\n",
       "    <tr>\n",
       "      <th>2567</th>\n",
       "      <td>39</td>\n",
       "      <td>29</td>\n",
       "      <td>0</td>\n",
       "      <td>1</td>\n",
       "      <td>b</td>\n",
       "      <td>2325</td>\n",
       "      <td>1</td>\n",
       "      <td>18</td>\n",
       "      <td>M</td>\n",
       "    </tr>\n",
       "    <tr>\n",
       "      <th>1795</th>\n",
       "      <td>25</td>\n",
       "      <td>4</td>\n",
       "      <td>100</td>\n",
       "      <td>1</td>\n",
       "      <td>n</td>\n",
       "      <td>1738</td>\n",
       "      <td>0</td>\n",
       "      <td>28</td>\n",
       "      <td>M</td>\n",
       "    </tr>\n",
       "    <tr>\n",
       "      <th>1893</th>\n",
       "      <td>30</td>\n",
       "      <td>9</td>\n",
       "      <td>150</td>\n",
       "      <td>0</td>\n",
       "      <td>n</td>\n",
       "      <td>6920</td>\n",
       "      <td>1</td>\n",
       "      <td>24</td>\n",
       "      <td>F</td>\n",
       "    </tr>\n",
       "  </tbody>\n",
       "</table>\n",
       "</div>"
      ],
      "text/plain": [
       "      Subject  Trial  Angle  Matching Response  Time  Correct  Age Sex\n",
       "2567       39     29      0         1        b  2325        1   18   M\n",
       "1795       25      4    100         1        n  1738        0   28   M\n",
       "1893       30      9    150         0        n  6920        1   24   F"
      ]
     },
     "execution_count": 21,
     "metadata": {},
     "output_type": "execute_result"
    }
   ],
   "source": [
    "df.sample(3)"
   ]
  },
  {
   "cell_type": "markdown",
   "metadata": {},
   "source": [
    "How Many Total Trials (rows) are in the study?"
   ]
  },
  {
   "cell_type": "code",
   "execution_count": 24,
   "metadata": {
    "tags": [
     "exercise"
    ]
   },
   "outputs": [
    {
     "name": "stdout",
     "output_type": "stream",
     "text": [
      "<class 'pandas.core.frame.DataFrame'>\n",
      "RangeIndex: 5071 entries, 0 to 5070\n",
      "Data columns (total 9 columns):\n",
      " #   Column    Non-Null Count  Dtype \n",
      "---  ------    --------------  ----- \n",
      " 0   Subject   5071 non-null   int64 \n",
      " 1   Trial     5071 non-null   int64 \n",
      " 2   Angle     5071 non-null   int64 \n",
      " 3   Matching  5071 non-null   int64 \n",
      " 4   Response  5071 non-null   object\n",
      " 5   Time      5071 non-null   int64 \n",
      " 6   Correct   5071 non-null   int64 \n",
      " 7   Age       5071 non-null   int64 \n",
      " 8   Sex       5071 non-null   object\n",
      "dtypes: int64(7), object(2)\n",
      "memory usage: 356.7+ KB\n"
     ]
    }
   ],
   "source": [
    "len(df)\n",
    "df.info()"
   ]
  },
  {
   "cell_type": "markdown",
   "metadata": {},
   "source": [
    "## Calculating Values on Columns\n",
    "\n",
    "| Method | Example |\n",
    "| :-- | :-- |\n",
    "| `.max()` | `df['Height'].max()` |\n",
    "| `.min()` | `df['Weight'].min()` |\n",
    "| `.mean()` | `df['Time'].mean()` |\n",
    "| `.median()` | `df['Speed'].median()` |\n",
    "| `.value_counts()` | `df['Kind'].value_counts()` |\n"
   ]
  },
  {
   "cell_type": "markdown",
   "metadata": {},
   "source": [
    "What is the maximum number of trials that one subject performed?"
   ]
  },
  {
   "cell_type": "code",
   "execution_count": 29,
   "metadata": {
    "tags": [
     "exercise"
    ]
   },
   "outputs": [
    {
     "data": {
      "text/plain": [
       "Subject\n",
       "49    96\n",
       "42    96\n",
       "28    96\n",
       "51    96\n",
       "36    96\n",
       "23    96\n",
       "14    96\n",
       "8     96\n",
       "6     96\n",
       "7     96\n",
       "37    96\n",
       "1     96\n",
       "39    96\n",
       "20    96\n",
       "26    95\n",
       "15    95\n",
       "38    95\n",
       "32    95\n",
       "34    95\n",
       "27    95\n",
       "16    95\n",
       "5     95\n",
       "33    95\n",
       "41    95\n",
       "52    95\n",
       "4     95\n",
       "9     95\n",
       "17    95\n",
       "35    95\n",
       "50    94\n",
       "48    94\n",
       "11    94\n",
       "24    94\n",
       "25    94\n",
       "43    94\n",
       "12    94\n",
       "3     94\n",
       "21    94\n",
       "46    93\n",
       "40    93\n",
       "54    93\n",
       "2     93\n",
       "31    92\n",
       "22    92\n",
       "47    92\n",
       "45    92\n",
       "30    91\n",
       "10    91\n",
       "44    91\n",
       "53    91\n",
       "29    90\n",
       "18    89\n",
       "13    88\n",
       "19    85\n",
       "Name: count, dtype: int64"
      ]
     },
     "execution_count": 29,
     "metadata": {},
     "output_type": "execute_result"
    }
   ],
   "source": [
    "df['Subject'].value_counts()"
   ]
  },
  {
   "cell_type": "markdown",
   "metadata": {},
   "source": [
    "What was the median reaction time across all subjects?"
   ]
  },
  {
   "cell_type": "code",
   "execution_count": 31,
   "metadata": {
    "tags": [
     "exercise"
    ]
   },
   "outputs": [
    {
     "data": {
      "text/plain": [
       "np.float64(2402.0)"
      ]
     },
     "execution_count": 31,
     "metadata": {},
     "output_type": "execute_result"
    }
   ],
   "source": [
    "df['Time'].median()"
   ]
  },
  {
   "cell_type": "markdown",
   "metadata": {},
   "source": [
    "What was the average accuracy rate (i.e. proportion of correct trials) across all subjects?"
   ]
  },
  {
   "cell_type": "code",
   "execution_count": 35,
   "metadata": {
    "tags": [
     "exercise"
    ]
   },
   "outputs": [
    {
     "data": {
      "text/plain": [
       "np.float64(2535.5)"
      ]
     },
     "execution_count": 35,
     "metadata": {},
     "output_type": "execute_result"
    }
   ],
   "source": [
    "df['Correct'].value_counts().mean()\n"
   ]
  },
  {
   "cell_type": "markdown",
   "metadata": {},
   "source": [
    "How many trials were shown at each Angle?"
   ]
  },
  {
   "cell_type": "code",
   "execution_count": 36,
   "metadata": {
    "tags": [
     "exercise"
    ]
   },
   "outputs": [
    {
     "data": {
      "text/plain": [
       "Angle\n",
       "50     1280\n",
       "0      1274\n",
       "100    1261\n",
       "150    1256\n",
       "Name: count, dtype: int64"
      ]
     },
     "execution_count": 36,
     "metadata": {},
     "output_type": "execute_result"
    }
   ],
   "source": [
    "df['Angle'].value_counts()"
   ]
  },
  {
   "cell_type": "markdown",
   "metadata": {},
   "source": [
    "How many trials were answered correctly and incorrectly, for each angle? (hint: `df[['A', 'B']]`)"
   ]
  },
  {
   "cell_type": "code",
   "execution_count": 37,
   "metadata": {},
   "outputs": [
    {
     "data": {
      "text/plain": [
       "Angle  Correct\n",
       "0      1          1216\n",
       "50     1          1198\n",
       "100    1          1121\n",
       "150    1          1052\n",
       "       0           204\n",
       "100    0           140\n",
       "50     0            82\n",
       "0      0            58\n",
       "Name: count, dtype: int64"
      ]
     },
     "execution_count": 37,
     "metadata": {},
     "output_type": "execute_result"
    }
   ],
   "source": [
    "df[['Angle','Correct']].value_counts()"
   ]
  },
  {
   "cell_type": "markdown",
   "metadata": {},
   "source": [
    "### Making New Columns\n",
    "\n",
    "| Syntax | \n",
    "| :-- |\n",
    "| `df['NewCol'] = df['OldCol'] * 10` |"
   ]
  },
  {
   "cell_type": "markdown",
   "metadata": {},
   "source": [
    "Make a \"TimeSecs\" column by converting the Time column to seconds by dividing it by 1000."
   ]
  },
  {
   "cell_type": "code",
   "execution_count": 38,
   "metadata": {
    "tags": [
     "exercise"
    ]
   },
   "outputs": [],
   "source": [
    "df['TimeSecs'] = df ['Time'] * 1000"
   ]
  },
  {
   "cell_type": "markdown",
   "metadata": {},
   "source": [
    "Make an \"IsCorrect\" column by converting the \"Correct\" column to *bool* (True/False) values"
   ]
  },
  {
   "cell_type": "code",
   "execution_count": 50,
   "metadata": {
    "tags": [
     "exercise"
    ]
   },
   "outputs": [],
   "source": [
    "df['IsCorrect'] = df['Correct'].astype(bool)"
   ]
  },
  {
   "cell_type": "markdown",
   "metadata": {},
   "source": [
    "### Logical Indexing\n",
    "\n",
    "| Syntax |\n",
    "| :-- |\n",
    "| `df[df['Time'] > 3]` |"
   ]
  },
  {
   "cell_type": "markdown",
   "metadata": {},
   "source": [
    "Example: How many trials used an angle of 150?"
   ]
  },
  {
   "cell_type": "code",
   "execution_count": 51,
   "metadata": {},
   "outputs": [
    {
     "data": {
      "text/plain": [
       "1256"
      ]
     },
     "execution_count": 51,
     "metadata": {},
     "output_type": "execute_result"
    }
   ],
   "source": [
    "len(df[df['Angle'] == 150])"
   ]
  },
  {
   "cell_type": "markdown",
   "metadata": {},
   "source": [
    "How many trials had response times longer than 3 seconds?"
   ]
  },
  {
   "cell_type": "code",
   "execution_count": 52,
   "metadata": {
    "tags": [
     "exercise"
    ]
   },
   "outputs": [
    {
     "data": {
      "text/plain": [
       "5071"
      ]
     },
     "execution_count": 52,
     "metadata": {},
     "output_type": "execute_result"
    }
   ],
   "source": [
    "len(df[df['TimeSecs'] > 3])"
   ]
  },
  {
   "cell_type": "markdown",
   "metadata": {},
   "source": [
    "What was the accuracy of subject 9?"
   ]
  },
  {
   "cell_type": "code",
   "execution_count": 66,
   "metadata": {
    "tags": [
     "exercise"
    ]
   },
   "outputs": [
    {
     "data": {
      "text/plain": [
       "3577    2788000\n",
       "3578    4118000\n",
       "3579    3809000\n",
       "3580    4317000\n",
       "3581    2362000\n",
       "         ...   \n",
       "3667    2434000\n",
       "3668    3341000\n",
       "3669    1204000\n",
       "3670    2084000\n",
       "3671    2157000\n",
       "Name: TimeSecs, Length: 95, dtype: int64"
      ]
     },
     "execution_count": 66,
     "metadata": {},
     "output_type": "execute_result"
    }
   ],
   "source": [
    "df[df['Subject'] == 9]['TimeSecs']"
   ]
  },
  {
   "cell_type": "markdown",
   "metadata": {},
   "source": [
    "What was the average response time of subject 32?"
   ]
  },
  {
   "cell_type": "code",
   "execution_count": 67,
   "metadata": {
    "tags": [
     "exercise"
    ]
   },
   "outputs": [
    {
     "data": {
      "text/plain": [
       "np.float64(2608452.6315789474)"
      ]
     },
     "execution_count": 67,
     "metadata": {},
     "output_type": "execute_result"
    }
   ],
   "source": [
    "df[df['Subject'] == 32]['TimeSecs'].mean()"
   ]
  },
  {
   "cell_type": "markdown",
   "metadata": {},
   "source": [
    "What was the average response time for subject 12 on trials with an Angle of 50? (Hint: `(A) & (B)`)"
   ]
  },
  {
   "cell_type": "code",
   "execution_count": 79,
   "metadata": {
    "tags": [
     "exercise"
    ]
   },
   "outputs": [
    {
     "data": {
      "text/html": [
       "<div>\n",
       "<style scoped>\n",
       "    .dataframe tbody tr th:only-of-type {\n",
       "        vertical-align: middle;\n",
       "    }\n",
       "\n",
       "    .dataframe tbody tr th {\n",
       "        vertical-align: top;\n",
       "    }\n",
       "\n",
       "    .dataframe thead th {\n",
       "        text-align: right;\n",
       "    }\n",
       "</style>\n",
       "<table border=\"1\" class=\"dataframe\">\n",
       "  <thead>\n",
       "    <tr style=\"text-align: right;\">\n",
       "      <th></th>\n",
       "      <th>Subject</th>\n",
       "      <th>Trial</th>\n",
       "      <th>Angle</th>\n",
       "      <th>Matching</th>\n",
       "      <th>Response</th>\n",
       "      <th>Time</th>\n",
       "      <th>Correct</th>\n",
       "      <th>Age</th>\n",
       "      <th>Sex</th>\n",
       "      <th>TimeSecs</th>\n",
       "      <th>IsCorrect</th>\n",
       "    </tr>\n",
       "  </thead>\n",
       "  <tbody>\n",
       "    <tr>\n",
       "      <th>2639</th>\n",
       "      <td>12</td>\n",
       "      <td>5</td>\n",
       "      <td>50</td>\n",
       "      <td>1</td>\n",
       "      <td>b</td>\n",
       "      <td>2435</td>\n",
       "      <td>1</td>\n",
       "      <td>21</td>\n",
       "      <td>F</td>\n",
       "      <td>2435000</td>\n",
       "      <td>True</td>\n",
       "    </tr>\n",
       "    <tr>\n",
       "      <th>2640</th>\n",
       "      <td>12</td>\n",
       "      <td>6</td>\n",
       "      <td>50</td>\n",
       "      <td>0</td>\n",
       "      <td>n</td>\n",
       "      <td>1251</td>\n",
       "      <td>1</td>\n",
       "      <td>21</td>\n",
       "      <td>F</td>\n",
       "      <td>1251000</td>\n",
       "      <td>True</td>\n",
       "    </tr>\n",
       "    <tr>\n",
       "      <th>2645</th>\n",
       "      <td>12</td>\n",
       "      <td>11</td>\n",
       "      <td>50</td>\n",
       "      <td>0</td>\n",
       "      <td>n</td>\n",
       "      <td>2292</td>\n",
       "      <td>1</td>\n",
       "      <td>21</td>\n",
       "      <td>F</td>\n",
       "      <td>2292000</td>\n",
       "      <td>True</td>\n",
       "    </tr>\n",
       "    <tr>\n",
       "      <th>2650</th>\n",
       "      <td>12</td>\n",
       "      <td>16</td>\n",
       "      <td>50</td>\n",
       "      <td>1</td>\n",
       "      <td>b</td>\n",
       "      <td>2379</td>\n",
       "      <td>1</td>\n",
       "      <td>21</td>\n",
       "      <td>F</td>\n",
       "      <td>2379000</td>\n",
       "      <td>True</td>\n",
       "    </tr>\n",
       "    <tr>\n",
       "      <th>2653</th>\n",
       "      <td>12</td>\n",
       "      <td>19</td>\n",
       "      <td>50</td>\n",
       "      <td>0</td>\n",
       "      <td>n</td>\n",
       "      <td>3052</td>\n",
       "      <td>1</td>\n",
       "      <td>21</td>\n",
       "      <td>F</td>\n",
       "      <td>3052000</td>\n",
       "      <td>True</td>\n",
       "    </tr>\n",
       "    <tr>\n",
       "      <th>2654</th>\n",
       "      <td>12</td>\n",
       "      <td>20</td>\n",
       "      <td>50</td>\n",
       "      <td>1</td>\n",
       "      <td>b</td>\n",
       "      <td>1372</td>\n",
       "      <td>1</td>\n",
       "      <td>21</td>\n",
       "      <td>F</td>\n",
       "      <td>1372000</td>\n",
       "      <td>True</td>\n",
       "    </tr>\n",
       "    <tr>\n",
       "      <th>2660</th>\n",
       "      <td>12</td>\n",
       "      <td>26</td>\n",
       "      <td>50</td>\n",
       "      <td>0</td>\n",
       "      <td>n</td>\n",
       "      <td>3376</td>\n",
       "      <td>1</td>\n",
       "      <td>21</td>\n",
       "      <td>F</td>\n",
       "      <td>3376000</td>\n",
       "      <td>True</td>\n",
       "    </tr>\n",
       "    <tr>\n",
       "      <th>2661</th>\n",
       "      <td>12</td>\n",
       "      <td>27</td>\n",
       "      <td>50</td>\n",
       "      <td>1</td>\n",
       "      <td>b</td>\n",
       "      <td>1669</td>\n",
       "      <td>1</td>\n",
       "      <td>21</td>\n",
       "      <td>F</td>\n",
       "      <td>1669000</td>\n",
       "      <td>True</td>\n",
       "    </tr>\n",
       "    <tr>\n",
       "      <th>2667</th>\n",
       "      <td>12</td>\n",
       "      <td>33</td>\n",
       "      <td>50</td>\n",
       "      <td>1</td>\n",
       "      <td>b</td>\n",
       "      <td>1676</td>\n",
       "      <td>1</td>\n",
       "      <td>21</td>\n",
       "      <td>F</td>\n",
       "      <td>1676000</td>\n",
       "      <td>True</td>\n",
       "    </tr>\n",
       "    <tr>\n",
       "      <th>2674</th>\n",
       "      <td>12</td>\n",
       "      <td>40</td>\n",
       "      <td>50</td>\n",
       "      <td>0</td>\n",
       "      <td>n</td>\n",
       "      <td>1434</td>\n",
       "      <td>1</td>\n",
       "      <td>21</td>\n",
       "      <td>F</td>\n",
       "      <td>1434000</td>\n",
       "      <td>True</td>\n",
       "    </tr>\n",
       "    <tr>\n",
       "      <th>2679</th>\n",
       "      <td>12</td>\n",
       "      <td>45</td>\n",
       "      <td>50</td>\n",
       "      <td>0</td>\n",
       "      <td>n</td>\n",
       "      <td>1228</td>\n",
       "      <td>1</td>\n",
       "      <td>21</td>\n",
       "      <td>F</td>\n",
       "      <td>1228000</td>\n",
       "      <td>True</td>\n",
       "    </tr>\n",
       "    <tr>\n",
       "      <th>2682</th>\n",
       "      <td>12</td>\n",
       "      <td>48</td>\n",
       "      <td>50</td>\n",
       "      <td>1</td>\n",
       "      <td>b</td>\n",
       "      <td>3163</td>\n",
       "      <td>1</td>\n",
       "      <td>21</td>\n",
       "      <td>F</td>\n",
       "      <td>3163000</td>\n",
       "      <td>True</td>\n",
       "    </tr>\n",
       "    <tr>\n",
       "      <th>2688</th>\n",
       "      <td>12</td>\n",
       "      <td>54</td>\n",
       "      <td>50</td>\n",
       "      <td>0</td>\n",
       "      <td>n</td>\n",
       "      <td>1011</td>\n",
       "      <td>1</td>\n",
       "      <td>21</td>\n",
       "      <td>F</td>\n",
       "      <td>1011000</td>\n",
       "      <td>True</td>\n",
       "    </tr>\n",
       "    <tr>\n",
       "      <th>2690</th>\n",
       "      <td>12</td>\n",
       "      <td>56</td>\n",
       "      <td>50</td>\n",
       "      <td>1</td>\n",
       "      <td>b</td>\n",
       "      <td>1258</td>\n",
       "      <td>1</td>\n",
       "      <td>21</td>\n",
       "      <td>F</td>\n",
       "      <td>1258000</td>\n",
       "      <td>True</td>\n",
       "    </tr>\n",
       "    <tr>\n",
       "      <th>2697</th>\n",
       "      <td>12</td>\n",
       "      <td>63</td>\n",
       "      <td>50</td>\n",
       "      <td>0</td>\n",
       "      <td>n</td>\n",
       "      <td>1514</td>\n",
       "      <td>1</td>\n",
       "      <td>21</td>\n",
       "      <td>F</td>\n",
       "      <td>1514000</td>\n",
       "      <td>True</td>\n",
       "    </tr>\n",
       "    <tr>\n",
       "      <th>2698</th>\n",
       "      <td>12</td>\n",
       "      <td>64</td>\n",
       "      <td>50</td>\n",
       "      <td>1</td>\n",
       "      <td>b</td>\n",
       "      <td>1351</td>\n",
       "      <td>1</td>\n",
       "      <td>21</td>\n",
       "      <td>F</td>\n",
       "      <td>1351000</td>\n",
       "      <td>True</td>\n",
       "    </tr>\n",
       "    <tr>\n",
       "      <th>2703</th>\n",
       "      <td>12</td>\n",
       "      <td>69</td>\n",
       "      <td>50</td>\n",
       "      <td>0</td>\n",
       "      <td>n</td>\n",
       "      <td>925</td>\n",
       "      <td>1</td>\n",
       "      <td>21</td>\n",
       "      <td>F</td>\n",
       "      <td>925000</td>\n",
       "      <td>True</td>\n",
       "    </tr>\n",
       "    <tr>\n",
       "      <th>2704</th>\n",
       "      <td>12</td>\n",
       "      <td>70</td>\n",
       "      <td>50</td>\n",
       "      <td>1</td>\n",
       "      <td>b</td>\n",
       "      <td>1225</td>\n",
       "      <td>1</td>\n",
       "      <td>21</td>\n",
       "      <td>F</td>\n",
       "      <td>1225000</td>\n",
       "      <td>True</td>\n",
       "    </tr>\n",
       "    <tr>\n",
       "      <th>2712</th>\n",
       "      <td>12</td>\n",
       "      <td>78</td>\n",
       "      <td>50</td>\n",
       "      <td>1</td>\n",
       "      <td>b</td>\n",
       "      <td>1941</td>\n",
       "      <td>1</td>\n",
       "      <td>21</td>\n",
       "      <td>F</td>\n",
       "      <td>1941000</td>\n",
       "      <td>True</td>\n",
       "    </tr>\n",
       "    <tr>\n",
       "      <th>2713</th>\n",
       "      <td>12</td>\n",
       "      <td>79</td>\n",
       "      <td>50</td>\n",
       "      <td>0</td>\n",
       "      <td>n</td>\n",
       "      <td>1064</td>\n",
       "      <td>1</td>\n",
       "      <td>21</td>\n",
       "      <td>F</td>\n",
       "      <td>1064000</td>\n",
       "      <td>True</td>\n",
       "    </tr>\n",
       "    <tr>\n",
       "      <th>2715</th>\n",
       "      <td>12</td>\n",
       "      <td>81</td>\n",
       "      <td>50</td>\n",
       "      <td>0</td>\n",
       "      <td>n</td>\n",
       "      <td>3032</td>\n",
       "      <td>1</td>\n",
       "      <td>21</td>\n",
       "      <td>F</td>\n",
       "      <td>3032000</td>\n",
       "      <td>True</td>\n",
       "    </tr>\n",
       "    <tr>\n",
       "      <th>2718</th>\n",
       "      <td>12</td>\n",
       "      <td>84</td>\n",
       "      <td>50</td>\n",
       "      <td>1</td>\n",
       "      <td>b</td>\n",
       "      <td>3187</td>\n",
       "      <td>1</td>\n",
       "      <td>21</td>\n",
       "      <td>F</td>\n",
       "      <td>3187000</td>\n",
       "      <td>True</td>\n",
       "    </tr>\n",
       "    <tr>\n",
       "      <th>2722</th>\n",
       "      <td>12</td>\n",
       "      <td>90</td>\n",
       "      <td>50</td>\n",
       "      <td>1</td>\n",
       "      <td>b</td>\n",
       "      <td>1984</td>\n",
       "      <td>1</td>\n",
       "      <td>21</td>\n",
       "      <td>F</td>\n",
       "      <td>1984000</td>\n",
       "      <td>True</td>\n",
       "    </tr>\n",
       "    <tr>\n",
       "      <th>2726</th>\n",
       "      <td>12</td>\n",
       "      <td>94</td>\n",
       "      <td>50</td>\n",
       "      <td>0</td>\n",
       "      <td>n</td>\n",
       "      <td>1107</td>\n",
       "      <td>1</td>\n",
       "      <td>21</td>\n",
       "      <td>F</td>\n",
       "      <td>1107000</td>\n",
       "      <td>True</td>\n",
       "    </tr>\n",
       "  </tbody>\n",
       "</table>\n",
       "</div>"
      ],
      "text/plain": [
       "      Subject  Trial  Angle  Matching Response  Time  Correct  Age Sex  \\\n",
       "2639       12      5     50         1        b  2435        1   21   F   \n",
       "2640       12      6     50         0        n  1251        1   21   F   \n",
       "2645       12     11     50         0        n  2292        1   21   F   \n",
       "2650       12     16     50         1        b  2379        1   21   F   \n",
       "2653       12     19     50         0        n  3052        1   21   F   \n",
       "2654       12     20     50         1        b  1372        1   21   F   \n",
       "2660       12     26     50         0        n  3376        1   21   F   \n",
       "2661       12     27     50         1        b  1669        1   21   F   \n",
       "2667       12     33     50         1        b  1676        1   21   F   \n",
       "2674       12     40     50         0        n  1434        1   21   F   \n",
       "2679       12     45     50         0        n  1228        1   21   F   \n",
       "2682       12     48     50         1        b  3163        1   21   F   \n",
       "2688       12     54     50         0        n  1011        1   21   F   \n",
       "2690       12     56     50         1        b  1258        1   21   F   \n",
       "2697       12     63     50         0        n  1514        1   21   F   \n",
       "2698       12     64     50         1        b  1351        1   21   F   \n",
       "2703       12     69     50         0        n   925        1   21   F   \n",
       "2704       12     70     50         1        b  1225        1   21   F   \n",
       "2712       12     78     50         1        b  1941        1   21   F   \n",
       "2713       12     79     50         0        n  1064        1   21   F   \n",
       "2715       12     81     50         0        n  3032        1   21   F   \n",
       "2718       12     84     50         1        b  3187        1   21   F   \n",
       "2722       12     90     50         1        b  1984        1   21   F   \n",
       "2726       12     94     50         0        n  1107        1   21   F   \n",
       "\n",
       "      TimeSecs  IsCorrect  \n",
       "2639   2435000       True  \n",
       "2640   1251000       True  \n",
       "2645   2292000       True  \n",
       "2650   2379000       True  \n",
       "2653   3052000       True  \n",
       "2654   1372000       True  \n",
       "2660   3376000       True  \n",
       "2661   1669000       True  \n",
       "2667   1676000       True  \n",
       "2674   1434000       True  \n",
       "2679   1228000       True  \n",
       "2682   3163000       True  \n",
       "2688   1011000       True  \n",
       "2690   1258000       True  \n",
       "2697   1514000       True  \n",
       "2698   1351000       True  \n",
       "2703    925000       True  \n",
       "2704   1225000       True  \n",
       "2712   1941000       True  \n",
       "2713   1064000       True  \n",
       "2715   3032000       True  \n",
       "2718   3187000       True  \n",
       "2722   1984000       True  \n",
       "2726   1107000       True  "
      ]
     },
     "execution_count": 79,
     "metadata": {},
     "output_type": "execute_result"
    }
   ],
   "source": [
    "df[(df['Subject'] == 12) & (df['Angle'] == 50)]"
   ]
  },
  {
   "cell_type": "markdown",
   "metadata": {},
   "source": [
    "Was there an overall difference in response accuracy between matching and non-matching trials?"
   ]
  },
  {
   "cell_type": "code",
   "execution_count": null,
   "metadata": {
    "tags": [
     "exercise"
    ]
   },
   "outputs": [],
   "source": []
  },
  {
   "cell_type": "markdown",
   "metadata": {},
   "source": [
    "Is there a response time difference between matching and nonmatching\n",
    "trials?"
   ]
  },
  {
   "cell_type": "code",
   "execution_count": null,
   "metadata": {
    "tags": [
     "exercise"
    ]
   },
   "outputs": [],
   "source": []
  },
  {
   "cell_type": "markdown",
   "metadata": {},
   "source": [
    "## Group By\n",
    "\n",
    "| Syntax |\n",
    "| :-- |\n",
    "| `df.groupby('Age').Time.mean()` |"
   ]
  },
  {
   "cell_type": "markdown",
   "metadata": {},
   "source": [
    "Example: What was the response accuracy for matching and non-matching trials?"
   ]
  },
  {
   "cell_type": "code",
   "execution_count": null,
   "metadata": {},
   "outputs": [
    {
     "data": {
      "text/plain": [
       "Matching\n",
       "0    0.909163\n",
       "1    0.899961\n",
       "Name: IsCorrect, dtype: float64"
      ]
     },
     "execution_count": 38,
     "metadata": {},
     "output_type": "execute_result"
    }
   ],
   "source": [
    "df.groupby('Matching').IsCorrect.mean()"
   ]
  },
  {
   "cell_type": "markdown",
   "metadata": {},
   "source": [
    "Example: What was the response accuracy for Each Angle?"
   ]
  },
  {
   "cell_type": "code",
   "execution_count": null,
   "metadata": {
    "tags": [
     "exercise"
    ]
   },
   "outputs": [
    {
     "data": {
      "text/html": [
       "<div>\n",
       "<style scoped>\n",
       "    .dataframe tbody tr th:only-of-type {\n",
       "        vertical-align: middle;\n",
       "    }\n",
       "\n",
       "    .dataframe tbody tr th {\n",
       "        vertical-align: top;\n",
       "    }\n",
       "\n",
       "    .dataframe thead th {\n",
       "        text-align: right;\n",
       "    }\n",
       "</style>\n",
       "<table border=\"1\" class=\"dataframe\">\n",
       "  <thead>\n",
       "    <tr style=\"text-align: right;\">\n",
       "      <th></th>\n",
       "      <th>Angle</th>\n",
       "      <th>IsCorrect</th>\n",
       "    </tr>\n",
       "  </thead>\n",
       "  <tbody>\n",
       "    <tr>\n",
       "      <th>0</th>\n",
       "      <td>0</td>\n",
       "      <td>0.954474</td>\n",
       "    </tr>\n",
       "    <tr>\n",
       "      <th>1</th>\n",
       "      <td>50</td>\n",
       "      <td>0.935937</td>\n",
       "    </tr>\n",
       "    <tr>\n",
       "      <th>2</th>\n",
       "      <td>100</td>\n",
       "      <td>0.888977</td>\n",
       "    </tr>\n",
       "    <tr>\n",
       "      <th>3</th>\n",
       "      <td>150</td>\n",
       "      <td>0.837580</td>\n",
       "    </tr>\n",
       "  </tbody>\n",
       "</table>\n",
       "</div>"
      ],
      "text/plain": [
       "   Angle  IsCorrect\n",
       "0      0   0.954474\n",
       "1     50   0.935937\n",
       "2    100   0.888977\n",
       "3    150   0.837580"
      ]
     },
     "execution_count": 40,
     "metadata": {},
     "output_type": "execute_result"
    }
   ],
   "source": [
    "df.groupby('Angle', as_index=False).IsCorrect.mean()"
   ]
  },
  {
   "cell_type": "markdown",
   "metadata": {},
   "source": [
    "What was the response accuracy for each Angle and Matching/Nonmatching value?"
   ]
  },
  {
   "cell_type": "code",
   "execution_count": null,
   "metadata": {
    "tags": [
     "exercise"
    ]
   },
   "outputs": [],
   "source": []
  },
  {
   "cell_type": "markdown",
   "metadata": {},
   "source": [
    "What was the average response time for each Angle and Matching/Nonmatching value?"
   ]
  },
  {
   "cell_type": "code",
   "execution_count": null,
   "metadata": {
    "tags": [
     "exercise"
    ]
   },
   "outputs": [],
   "source": []
  },
  {
   "cell_type": "markdown",
   "metadata": {},
   "source": [
    "What was the average response time for each Angle and Matching/Nonmatching value, for each subject?"
   ]
  },
  {
   "cell_type": "code",
   "execution_count": null,
   "metadata": {
    "tags": [
     "exercise"
    ]
   },
   "outputs": [],
   "source": []
  },
  {
   "attachments": {},
   "cell_type": "markdown",
   "metadata": {},
   "source": [
    "### Plotting with Pandas\n",
    "\n",
    "| Syntax |\n",
    "| :-- |\n",
    "| `df['Column'].plot(kind='hist')` |\n",
    "| `df['Column'].plot.hist()` |\n",
    "| `df.hist('Column', by='Group')` |\n",
    "| `df.plot(x='Age', y='Height', kind='scatter')` |\n",
    "| `df.plot.scatter(x='Age', y='Height')` |"
   ]
  },
  {
   "cell_type": "markdown",
   "metadata": {},
   "source": [
    "Plot the response time distribution as a histogram."
   ]
  },
  {
   "cell_type": "code",
   "execution_count": null,
   "metadata": {},
   "outputs": [],
   "source": []
  },
  {
   "cell_type": "markdown",
   "metadata": {},
   "source": [
    "Plot the average response time for each stimulus category (matching and non-matching)"
   ]
  },
  {
   "cell_type": "code",
   "execution_count": null,
   "metadata": {
    "tags": [
     "exercise"
    ]
   },
   "outputs": [],
   "source": []
  },
  {
   "cell_type": "markdown",
   "metadata": {},
   "source": [
    "Is there a correlation between Angle of mental rotation and response time?  Visualize the relationship using a scatter plot"
   ]
  },
  {
   "cell_type": "code",
   "execution_count": null,
   "metadata": {
    "tags": [
     "exercise"
    ]
   },
   "outputs": [],
   "source": []
  },
  {
   "cell_type": "markdown",
   "metadata": {},
   "source": [
    "Is there a relationship between subject age and average response time?   Visualize the relationship using a box plot"
   ]
  },
  {
   "cell_type": "code",
   "execution_count": null,
   "metadata": {},
   "outputs": [],
   "source": []
  },
  {
   "cell_type": "markdown",
   "metadata": {},
   "source": [
    "Did participants get faster or slower as they did more trials? Visualize the relationship using a scatter plot"
   ]
  },
  {
   "cell_type": "code",
   "execution_count": null,
   "metadata": {},
   "outputs": [],
   "source": []
  },
  {
   "cell_type": "markdown",
   "metadata": {},
   "source": [
    "Plot the response time distribution, with a seperate subplot for each subject."
   ]
  },
  {
   "cell_type": "code",
   "execution_count": null,
   "metadata": {},
   "outputs": [],
   "source": []
  },
  {
   "cell_type": "markdown",
   "metadata": {},
   "source": [
    "## Plotting with Seaborn\n",
    "\n",
    "| Syntax |\n",
    "| :-- |\n",
    "| `sns.catplot(data=df, x='Col1', y='Col2', hue='Col3', kind='bar')` |\n",
    "| `sns.lineplot(data=df, x='Col1', y='Col2', hue='Col3')` |\n",
    "| `sns.lmplot(data=df, x='Col1', y='Col2', hue='Col3')` |"
   ]
  },
  {
   "cell_type": "markdown",
   "metadata": {},
   "source": [
    "Is there a difference between average response time for matching and non-matching trials?"
   ]
  },
  {
   "cell_type": "code",
   "execution_count": null,
   "metadata": {},
   "outputs": [],
   "source": []
  },
  {
   "cell_type": "markdown",
   "metadata": {},
   "source": [
    "Is there a correlation between Angle of mental rotation and response time?  Visualize the relationship"
   ]
  },
  {
   "cell_type": "code",
   "execution_count": null,
   "metadata": {},
   "outputs": [],
   "source": []
  },
  {
   "cell_type": "markdown",
   "metadata": {},
   "source": [
    "Is there a difference in the relationship between Angle of mental rotation and response time, between stimulus categories?"
   ]
  },
  {
   "cell_type": "code",
   "execution_count": null,
   "metadata": {
    "tags": [
     "exercise"
    ]
   },
   "outputs": [],
   "source": []
  },
  {
   "cell_type": "markdown",
   "metadata": {},
   "source": [
    "Is there a difference in the relationship between Angle of mental rotation and response time for participants younger than 22 and participants older than 22, between stimulus categories?"
   ]
  },
  {
   "cell_type": "code",
   "execution_count": null,
   "metadata": {
    "tags": [
     "exercise"
    ]
   },
   "outputs": [],
   "source": []
  },
  {
   "cell_type": "markdown",
   "metadata": {},
   "source": [
    "Did participants get faster or slower as they did more trials? Visualize the relationship using a line plot"
   ]
  },
  {
   "cell_type": "code",
   "execution_count": null,
   "metadata": {},
   "outputs": [],
   "source": []
  }
 ],
 "metadata": {
  "kernelspec": {
   "display_name": "Python 3",
   "language": "python",
   "name": "python3"
  },
  "language_info": {
   "codemirror_mode": {
    "name": "ipython",
    "version": 3
   },
   "file_extension": ".py",
   "mimetype": "text/x-python",
   "name": "python",
   "nbconvert_exporter": "python",
   "pygments_lexer": "ipython3",
   "version": "3.10.12"
  }
 },
 "nbformat": 4,
 "nbformat_minor": 4
}
